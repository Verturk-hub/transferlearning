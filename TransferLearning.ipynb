{
  "nbformat": 4,
  "nbformat_minor": 0,
  "metadata": {
    "colab": {
      "name": "TransferLearning.ipynb",
      "provenance": []
    },
    "kernelspec": {
      "name": "python3",
      "display_name": "Python 3"
    },
    "language_info": {
      "name": "python"
    },
    "accelerator": "GPU"
  },
  "cells": [
    {
      "cell_type": "code",
      "execution_count": 1,
      "metadata": {
        "id": "wreNQQ07kJFa"
      },
      "outputs": [],
      "source": [
        "input_shape=(32,32,3)"
      ]
    },
    {
      "cell_type": "code",
      "source": [
        "import tensorflow as tf"
      ],
      "metadata": {
        "id": "c_pJPhoAkxtu"
      },
      "execution_count": 2,
      "outputs": []
    },
    {
      "cell_type": "code",
      "source": [
        "vgg_layers = tf.keras.applications.vgg19.VGG19(weights='imagenet', include_top=False, input_shape=input_shape)"
      ],
      "metadata": {
        "colab": {
          "base_uri": "https://localhost:8080/"
        },
        "id": "4kSUngwokYRN",
        "outputId": "30ffb27c-adad-47bd-bedf-3cbf80e0754b"
      },
      "execution_count": 3,
      "outputs": [
        {
          "output_type": "stream",
          "name": "stdout",
          "text": [
            "Downloading data from https://storage.googleapis.com/tensorflow/keras-applications/vgg19/vgg19_weights_tf_dim_ordering_tf_kernels_notop.h5\n",
            "80142336/80134624 [==============================] - 1s 0us/step\n",
            "80150528/80134624 [==============================] - 1s 0us/step\n"
          ]
        }
      ]
    },
    {
      "cell_type": "code",
      "source": [
        "for layer in vgg_layers.layers:\n",
        "  layer.trainable = True"
      ],
      "metadata": {
        "id": "Jp-rEC71k4ow"
      },
      "execution_count": 4,
      "outputs": []
    },
    {
      "cell_type": "code",
      "source": [
        "for layer in vgg_layers.layers:\n",
        "  print(layer, layer.trainable)"
      ],
      "metadata": {
        "colab": {
          "base_uri": "https://localhost:8080/"
        },
        "id": "jVf1P8gmlPyr",
        "outputId": "2d73396c-25e2-4cff-eab3-444e8e3d751e"
      },
      "execution_count": 5,
      "outputs": [
        {
          "output_type": "stream",
          "name": "stdout",
          "text": [
            "<keras.engine.input_layer.InputLayer object at 0x7fda44692f50> True\n",
            "<keras.layers.convolutional.Conv2D object at 0x7fda41279e90> True\n",
            "<keras.layers.convolutional.Conv2D object at 0x7fda426855d0> True\n",
            "<keras.layers.pooling.MaxPooling2D object at 0x7fda409f2090> True\n",
            "<keras.layers.convolutional.Conv2D object at 0x7fda304f2a10> True\n",
            "<keras.layers.convolutional.Conv2D object at 0x7fda304f7b50> True\n",
            "<keras.layers.pooling.MaxPooling2D object at 0x7fda41f10390> True\n",
            "<keras.layers.convolutional.Conv2D object at 0x7fda30501290> True\n",
            "<keras.layers.convolutional.Conv2D object at 0x7fda30507a90> True\n",
            "<keras.layers.convolutional.Conv2D object at 0x7fda304fab10> True\n",
            "<keras.layers.convolutional.Conv2D object at 0x7fda30514650> True\n",
            "<keras.layers.pooling.MaxPooling2D object at 0x7fda3051d790> True\n",
            "<keras.layers.convolutional.Conv2D object at 0x7fda30519110> True\n",
            "<keras.layers.convolutional.Conv2D object at 0x7fda305223d0> True\n",
            "<keras.layers.convolutional.Conv2D object at 0x7fda3052a850> True\n",
            "<keras.layers.convolutional.Conv2D object at 0x7fda304af290> True\n",
            "<keras.layers.pooling.MaxPooling2D object at 0x7fda30514210> True\n",
            "<keras.layers.convolutional.Conv2D object at 0x7fda304b89d0> True\n",
            "<keras.layers.convolutional.Conv2D object at 0x7fda304c0090> True\n",
            "<keras.layers.convolutional.Conv2D object at 0x7fda304b8d90> True\n",
            "<keras.layers.convolutional.Conv2D object at 0x7fda426851d0> True\n",
            "<keras.layers.pooling.MaxPooling2D object at 0x7fda42685550> True\n"
          ]
        }
      ]
    },
    {
      "cell_type": "code",
      "source": [
        "model = tf.keras.models.Sequential()\n",
        "model.add(vgg_layers)\n",
        "model.add(tf.keras.layers.Flatten())\n",
        "model.add(tf.keras.layers.Dense(256, activation = 'relu'))\n",
        "model.add(tf.keras.layers.Dropout(rate=0.3))\n",
        "model.add(tf.keras.layers.Dense(256, activation = 'relu'))\n",
        "model.add(tf.keras.layers.Dropout(rate=0.03))\n",
        "model.add(tf.keras.layers.Dense(10, activation = 'softmax'))\n"
      ],
      "metadata": {
        "id": "rtfpELPjlhy-"
      },
      "execution_count": 6,
      "outputs": []
    },
    {
      "cell_type": "code",
      "source": [
        "model.compile(optimizer=tf.keras.optimizers.Adam(learning_rate=2e-5),\n",
        "              loss = 'sparse_categorical_crossentropy',\n",
        "              metrics=['accuracy'])"
      ],
      "metadata": {
        "id": "gDjP2NxLnoZ6"
      },
      "execution_count": 7,
      "outputs": []
    },
    {
      "cell_type": "code",
      "source": [
        "from tensorflow.keras.datasets.cifar10 import load_data \n",
        "(x_train, y_train),(x_test, y_test) = load_data()"
      ],
      "metadata": {
        "colab": {
          "base_uri": "https://localhost:8080/"
        },
        "id": "YGeUuiFgok34",
        "outputId": "d3a1a5f4-0415-429c-cd95-8154c521141f"
      },
      "execution_count": 8,
      "outputs": [
        {
          "output_type": "stream",
          "name": "stdout",
          "text": [
            "Downloading data from https://www.cs.toronto.edu/~kriz/cifar-10-python.tar.gz\n",
            "170500096/170498071 [==============================] - 2s 0us/step\n",
            "170508288/170498071 [==============================] - 2s 0us/step\n"
          ]
        }
      ]
    },
    {
      "cell_type": "code",
      "source": [
        "x_train = x_train / 255\n",
        "history = model.fit(x=x_train, y=y_train, batch_size=32, validation_split=0.1, epochs=20, verbose=1)"
      ],
      "metadata": {
        "colab": {
          "base_uri": "https://localhost:8080/"
        },
        "id": "X0Akbek9ozJx",
        "outputId": "f3f5252a-2515-40e1-baed-35dd8dca29ab"
      },
      "execution_count": 9,
      "outputs": [
        {
          "output_type": "stream",
          "name": "stdout",
          "text": [
            "Epoch 1/20\n",
            "1407/1407 [==============================] - 159s 105ms/step - loss: 1.0521 - accuracy: 0.6374 - val_loss: 0.6720 - val_accuracy: 0.7674\n",
            "Epoch 2/20\n",
            "1407/1407 [==============================] - 146s 104ms/step - loss: 0.6576 - accuracy: 0.7790 - val_loss: 0.5678 - val_accuracy: 0.8072\n",
            "Epoch 3/20\n",
            "1407/1407 [==============================] - 146s 104ms/step - loss: 0.5225 - accuracy: 0.8244 - val_loss: 0.5368 - val_accuracy: 0.8170\n",
            "Epoch 4/20\n",
            "1407/1407 [==============================] - 146s 104ms/step - loss: 0.4158 - accuracy: 0.8607 - val_loss: 0.5218 - val_accuracy: 0.8238\n",
            "Epoch 5/20\n",
            "1407/1407 [==============================] - 146s 104ms/step - loss: 0.3315 - accuracy: 0.8886 - val_loss: 0.4971 - val_accuracy: 0.8392\n",
            "Epoch 6/20\n",
            "1407/1407 [==============================] - 146s 104ms/step - loss: 0.2593 - accuracy: 0.9140 - val_loss: 0.5305 - val_accuracy: 0.8372\n",
            "Epoch 7/20\n",
            "1407/1407 [==============================] - 146s 104ms/step - loss: 0.1961 - accuracy: 0.9349 - val_loss: 0.5243 - val_accuracy: 0.8408\n",
            "Epoch 8/20\n",
            "1407/1407 [==============================] - 146s 104ms/step - loss: 0.1476 - accuracy: 0.9515 - val_loss: 0.5499 - val_accuracy: 0.8496\n",
            "Epoch 9/20\n",
            "1407/1407 [==============================] - 146s 104ms/step - loss: 0.1124 - accuracy: 0.9631 - val_loss: 0.6224 - val_accuracy: 0.8436\n",
            "Epoch 10/20\n",
            "1407/1407 [==============================] - 146s 104ms/step - loss: 0.0896 - accuracy: 0.9706 - val_loss: 0.6542 - val_accuracy: 0.8444\n",
            "Epoch 11/20\n",
            "1407/1407 [==============================] - 146s 104ms/step - loss: 0.0781 - accuracy: 0.9754 - val_loss: 0.6650 - val_accuracy: 0.8394\n",
            "Epoch 12/20\n",
            "1407/1407 [==============================] - 146s 104ms/step - loss: 0.0628 - accuracy: 0.9795 - val_loss: 0.7740 - val_accuracy: 0.8370\n",
            "Epoch 13/20\n",
            "1407/1407 [==============================] - 146s 104ms/step - loss: 0.0555 - accuracy: 0.9824 - val_loss: 0.6780 - val_accuracy: 0.8502\n",
            "Epoch 14/20\n",
            "1407/1407 [==============================] - 146s 104ms/step - loss: 0.0534 - accuracy: 0.9829 - val_loss: 0.6790 - val_accuracy: 0.8510\n",
            "Epoch 15/20\n",
            "1407/1407 [==============================] - 145s 103ms/step - loss: 0.0482 - accuracy: 0.9840 - val_loss: 0.7239 - val_accuracy: 0.8502\n",
            "Epoch 16/20\n",
            "1407/1407 [==============================] - 145s 103ms/step - loss: 0.0396 - accuracy: 0.9875 - val_loss: 0.7841 - val_accuracy: 0.8454\n",
            "Epoch 17/20\n",
            "1407/1407 [==============================] - 144s 103ms/step - loss: 0.0434 - accuracy: 0.9862 - val_loss: 0.7379 - val_accuracy: 0.8452\n",
            "Epoch 18/20\n",
            "1407/1407 [==============================] - 145s 103ms/step - loss: 0.0348 - accuracy: 0.9886 - val_loss: 0.7005 - val_accuracy: 0.8538\n",
            "Epoch 19/20\n",
            "1407/1407 [==============================] - 145s 103ms/step - loss: 0.0361 - accuracy: 0.9884 - val_loss: 0.7801 - val_accuracy: 0.8410\n",
            "Epoch 20/20\n",
            "1407/1407 [==============================] - 145s 103ms/step - loss: 0.0320 - accuracy: 0.9897 - val_loss: 0.7630 - val_accuracy: 0.8472\n"
          ]
        }
      ]
    }
  ]
}